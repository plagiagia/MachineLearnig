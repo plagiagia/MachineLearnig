{
 "cells": [
  {
   "cell_type": "markdown",
   "metadata": {},
   "source": [
    "# CNN architecture  with Pytorch"
   ]
  },
  {
   "cell_type": "code",
   "execution_count": 47,
   "metadata": {},
   "outputs": [],
   "source": [
    "import torch\n",
    "import torch.nn.functional as F\n",
    "import torch.nn as nn\n",
    "import torch.utils.data as data_utils\n",
    "import torchvision.transforms as transforms\n",
    "from scipy.io import loadmat\n",
    "import os\n",
    "import numpy as np\n",
    "import matplotlib.pyplot as plt\n",
    "from torchsummary import summary\n",
    "from torchvision import transforms"
   ]
  },
  {
   "cell_type": "code",
   "execution_count": 48,
   "metadata": {},
   "outputs": [],
   "source": [
    "# Load the data from the SVHN dataset\n",
    "train = loadmat('train_32x32.mat')\n",
    "test = loadmat('test_32x32.mat')\n",
    "# Change the labels for number 0\n",
    "train['y'][train['y'] == 10] = 0\n",
    "test['y'][test['y'] == 10] = 0"
   ]
  },
  {
   "cell_type": "code",
   "execution_count": 49,
   "metadata": {},
   "outputs": [
    {
     "name": "stdout",
     "output_type": "stream",
     "text": [
      "Train features shape: (32, 32, 3, 73257)\n",
      "Test features shape: (32, 32, 3, 26032)\n",
      "Train labels shape: (73257, 1)\n",
      "Test labels shape: (26032, 1)\n"
     ]
    }
   ],
   "source": [
    "print(\"Train features shape: {}\".format(train['X'].shape))\n",
    "print(\"Test features shape: {}\".format(test['X'].shape))\n",
    "print(\"Train labels shape: {}\".format(train['y'].shape))\n",
    "print(\"Test labels shape: {}\".format(test['y'].shape))"
   ]
  },
  {
   "cell_type": "markdown",
   "metadata": {},
   "source": [
    "We have 73257 train samples, each one represent a picture 32x32 with 3 color channels (RGB). For the test data we have 26032 samples. Pytorch accepts images in a different format, as first dimension is given the batch followed by the color channel and then the image height and width. We have to transpose the image and convert it to float. We also squeeze the labels so they will be a one dimensional array and we convert them to long type."
   ]
  },
  {
   "cell_type": "code",
   "execution_count": 53,
   "metadata": {},
   "outputs": [],
   "source": [
    "# Turn data into tensors\n",
    "train_features_tensor = torch.from_numpy(train['X'] / 255.).permute(3, 2, 0, 1).float()\n",
    "train_labels_tensor = torch.from_numpy(train['y']).squeeze().long()\n",
    "\n",
    "test_features_tensor = torch.from_numpy(test['X'] / 255.).permute(3, 2, 0, 1).float()\n",
    "test_labels_tensor = torch.from_numpy(test['y']).squeeze().long()"
   ]
  },
  {
   "cell_type": "code",
   "execution_count": 54,
   "metadata": {},
   "outputs": [
    {
     "name": "stdout",
     "output_type": "stream",
     "text": [
      "Train features shape: torch.Size([73257, 3, 32, 32])\n",
      "Train labels shape: torch.Size([73257])\n",
      "Test features shape: torch.Size([26032, 3, 32, 32])\n",
      "Test labels shape: torch.Size([26032])\n"
     ]
    }
   ],
   "source": [
    "print(\"Train features shape: {}\".format(train_features_tensor.shape))\n",
    "print(\"Train labels shape: {}\".format(train_labels_tensor.shape))\n",
    "print(\"Test features shape: {}\".format(test_features_tensor.shape))\n",
    "print(\"Test labels shape: {}\".format(test_labels_tensor.shape))"
   ]
  },
  {
   "cell_type": "code",
   "execution_count": 55,
   "metadata": {},
   "outputs": [],
   "source": [
    "# Make a data loader\n",
    "train_dataset = data_utils.TensorDataset(train_features_tensor, train_labels_tensor)\n",
    "test_dataset = data_utils.TensorDataset(test_features_tensor, test_labels_tensor)"
   ]
  },
  {
   "cell_type": "code",
   "execution_count": 59,
   "metadata": {},
   "outputs": [],
   "source": [
    "train_loader = torch.utils.data.DataLoader(train_dataset,\n",
    "                                           batch_size=100,\n",
    "                                           shuffle=True,\n",
    "                                           num_workers=2)\n",
    "\n",
    "test_loader = torch.utils.data.DataLoader(test_dataset,\n",
    "                                          batch_size=100,\n",
    "                                          shuffle=True,\n",
    "                                          num_workers=2)"
   ]
  },
  {
   "cell_type": "code",
   "execution_count": 100,
   "metadata": {},
   "outputs": [],
   "source": [
    "# Build the network\n",
    "in_channels = 3\n",
    "\n",
    "out_channels_1 = 16\n",
    "out_channels_2 = 32\n",
    "\n",
    "out1_size = 1000\n",
    "out2_size = 10\n",
    "\n",
    "kernel_size = (5,5)\n",
    "\n",
    "\n",
    "class ConvNet(nn.Module):\n",
    "    def __init__(self):\n",
    "        super(ConvNet, self).__init__()\n",
    "        \n",
    "        self.device = torch.device(\"cuda\" if torch.cuda.is_available() else \"cpu\")\n",
    "\n",
    "        # Create the first convolution layer, channel input is 3 for RGB images, the output is selected to have 16\n",
    "        # filters, padding is set to 2 so we take as output the same dimensions as the original image.\n",
    "        # Formula to calculate the output shape of the convolution layer [(W−K+2P)/S]+1.\n",
    "        # out_shape_height = (7-3+0) + 1\n",
    "\n",
    "        self.Conv1 = nn.Conv2d(in_channels=in_channels, out_channels=out_channels_1,\n",
    "                               padding=1, kernel_size=kernel_size)\n",
    "        # Initialize the weights with the Xavier initialization method, and set bias to 0\n",
    "        nn.init.xavier_normal_(self.Conv1.weight)\n",
    "        nn.init.constant_(self.Conv1.bias,0)\n",
    "\n",
    "        self.layer1 = nn.Sequential(\n",
    "            self.Conv1,\n",
    "            nn.BatchNorm2d(out_channels_1),\n",
    "            nn.ReLU(),\n",
    "            nn.MaxPool2d(kernel_size=2)\n",
    "        )\n",
    "\n",
    "        self.Conv2 = nn.Conv2d(in_channels=out_channels_1, out_channels=out_channels_2,\n",
    "                               kernel_size=kernel_size)\n",
    "        nn.init.xavier_normal_(self.Conv2.weight)\n",
    "        nn.init.constant_(self.Conv2.bias, 0)\n",
    "\n",
    "        self.layer2 = nn.Sequential(\n",
    "            self.Conv2,\n",
    "            nn.BatchNorm2d(out_channels_2),\n",
    "            nn.ReLU(),\n",
    "            nn.MaxPool2d(kernel_size=2)\n",
    "        )\n",
    "\n",
    "        self.Dense = nn.Linear(32*5*5, out1_size)\n",
    "        nn.init.xavier_normal_(self.Dense.weight)\n",
    "        nn.init.constant_(self.Dense.bias, 0)\n",
    "        self.layer3 = nn.Sequential(\n",
    "            self.Dense,\n",
    "            nn.ReLU(),\n",
    "            nn.Dropout(0.5),\n",
    "            nn.Linear(out1_size, out2_size)\n",
    "        )\n",
    "\n",
    "    def forward(self, x):\n",
    "        out = self.layer1(x)\n",
    "        out = self.layer2(out)\n",
    "        out = out.reshape(out.size(0), -1)\n",
    "        out = self.layer3(out)\n",
    "\n",
    "\n",
    "        return F.log_softmax(out, dim=1)\n",
    "    \n",
    "    def compile(self):\n",
    "        self.to(self.device)\n",
    "        \n",
    "    def fit(self,train_loader, optimizer, loss_function, num_epochs=10):\n",
    "        loss_values = []\n",
    "        for epoch in range(num_epochs):\n",
    "            for i, (images, labels) in enumerate(train_loader):\n",
    "                images, labels = images.to(self.device), labels.to(self.device)\n",
    "                outputs = self(images)\n",
    "                loss = loss_function(outputs, labels)\n",
    "                \n",
    "                optimizer.zero_grad()\n",
    "                loss.backward()\n",
    "                optimizer.step()\n",
    "                \n",
    "                if ((i + 1) % 100)==0:\n",
    "                    print(\"Epoch [{}/{}], Step [{}/{}], Loss: {:.4f}\"\n",
    "                              .format(epoch + 1, num_epochs, i + 1, total_step, loss.item()))\n",
    "                    loss_values.append(loss.item())\n",
    "    \n",
    "                    \n",
    "        \n",
    "        return loss_values\n",
    "    \n",
    "    \n",
    "    def evaluate(self, test_loader):\n",
    "        self.eval()\n",
    "\n",
    "        with torch.no_grad():\n",
    "            correct = 0\n",
    "            total = 0\n",
    "            for images, labels in test_loader:\n",
    "                images, labels = images.to(self.device), labels.to(self.device)\n",
    "                outputs = self(images)\n",
    "                _, predicted = torch.max(outputs.data, 1)\n",
    "                total += labels.size(0)\n",
    "                correct += (predicted==labels).sum().item()\n",
    "\n",
    "            print('Accuracy of the model on the test set: {:.4f}%)'.format(100*correct / total))\n",
    "            \n",
    "\n",
    "        "
   ]
  },
  {
   "cell_type": "code",
   "execution_count": 101,
   "metadata": {},
   "outputs": [],
   "source": [
    "model = ConvNet()\n",
    "# device = torch.device('cuda:0')\n",
    "# model.to(device)\n",
    "model.compile()"
   ]
  },
  {
   "cell_type": "code",
   "execution_count": 102,
   "metadata": {},
   "outputs": [],
   "source": [
    "learning_rate = 0.001\n",
    "loss = nn.NLLLoss()\n",
    "optimizer = torch.optim.Adam(model.parameters(), lr=learning_rate)\n",
    "total_step = len(train_loader)\n",
    "num_epochs = 100\n",
    "loss_values = list()"
   ]
  },
  {
   "cell_type": "markdown",
   "metadata": {},
   "source": [
    "# Train the model"
   ]
  },
  {
   "cell_type": "code",
   "execution_count": 103,
   "metadata": {
    "scrolled": true
   },
   "outputs": [
    {
     "name": "stdout",
     "output_type": "stream",
     "text": [
      "Epoch [1/10], Step [100/733], Loss: 0.6914\n",
      "Epoch [1/10], Step [200/733], Loss: 0.8692\n",
      "Epoch [1/10], Step [300/733], Loss: 0.6416\n",
      "Epoch [1/10], Step [400/733], Loss: 0.4001\n",
      "Epoch [1/10], Step [500/733], Loss: 0.5237\n",
      "Epoch [1/10], Step [600/733], Loss: 0.8948\n",
      "Epoch [1/10], Step [700/733], Loss: 0.4162\n",
      "Epoch [2/10], Step [100/733], Loss: 0.4087\n",
      "Epoch [2/10], Step [200/733], Loss: 0.3662\n",
      "Epoch [2/10], Step [300/733], Loss: 0.4472\n",
      "Epoch [2/10], Step [400/733], Loss: 0.4326\n",
      "Epoch [2/10], Step [500/733], Loss: 0.4780\n",
      "Epoch [2/10], Step [600/733], Loss: 0.3081\n",
      "Epoch [2/10], Step [700/733], Loss: 0.2967\n",
      "Epoch [3/10], Step [100/733], Loss: 0.6027\n",
      "Epoch [3/10], Step [200/733], Loss: 0.2731\n",
      "Epoch [3/10], Step [300/733], Loss: 0.6937\n",
      "Epoch [3/10], Step [400/733], Loss: 0.3137\n",
      "Epoch [3/10], Step [500/733], Loss: 0.4486\n",
      "Epoch [3/10], Step [600/733], Loss: 0.3990\n",
      "Epoch [3/10], Step [700/733], Loss: 0.3953\n",
      "Epoch [4/10], Step [100/733], Loss: 0.3252\n",
      "Epoch [4/10], Step [200/733], Loss: 0.2957\n",
      "Epoch [4/10], Step [300/733], Loss: 0.3008\n",
      "Epoch [4/10], Step [400/733], Loss: 0.2149\n",
      "Epoch [4/10], Step [500/733], Loss: 0.2055\n",
      "Epoch [4/10], Step [600/733], Loss: 0.3072\n",
      "Epoch [4/10], Step [700/733], Loss: 0.4004\n",
      "Epoch [5/10], Step [100/733], Loss: 0.5245\n",
      "Epoch [5/10], Step [200/733], Loss: 0.1997\n",
      "Epoch [5/10], Step [300/733], Loss: 0.3494\n",
      "Epoch [5/10], Step [400/733], Loss: 0.2390\n",
      "Epoch [5/10], Step [500/733], Loss: 0.2610\n",
      "Epoch [5/10], Step [600/733], Loss: 0.2036\n",
      "Epoch [5/10], Step [700/733], Loss: 0.2373\n",
      "Epoch [6/10], Step [100/733], Loss: 0.3728\n",
      "Epoch [6/10], Step [200/733], Loss: 0.3516\n",
      "Epoch [6/10], Step [300/733], Loss: 0.2486\n",
      "Epoch [6/10], Step [400/733], Loss: 0.1909\n",
      "Epoch [6/10], Step [500/733], Loss: 0.3276\n",
      "Epoch [6/10], Step [600/733], Loss: 0.2188\n",
      "Epoch [6/10], Step [700/733], Loss: 0.3143\n",
      "Epoch [7/10], Step [100/733], Loss: 0.2438\n",
      "Epoch [7/10], Step [200/733], Loss: 0.4115\n",
      "Epoch [7/10], Step [300/733], Loss: 0.2508\n",
      "Epoch [7/10], Step [400/733], Loss: 0.3258\n",
      "Epoch [7/10], Step [500/733], Loss: 0.2144\n",
      "Epoch [7/10], Step [600/733], Loss: 0.2106\n",
      "Epoch [7/10], Step [700/733], Loss: 0.2318\n",
      "Epoch [8/10], Step [100/733], Loss: 0.1702\n",
      "Epoch [8/10], Step [200/733], Loss: 0.1494\n",
      "Epoch [8/10], Step [300/733], Loss: 0.2590\n",
      "Epoch [8/10], Step [400/733], Loss: 0.2718\n",
      "Epoch [8/10], Step [500/733], Loss: 0.2472\n",
      "Epoch [8/10], Step [600/733], Loss: 0.1709\n",
      "Epoch [8/10], Step [700/733], Loss: 0.2232\n",
      "Epoch [9/10], Step [100/733], Loss: 0.2388\n",
      "Epoch [9/10], Step [200/733], Loss: 0.1948\n",
      "Epoch [9/10], Step [300/733], Loss: 0.1448\n",
      "Epoch [9/10], Step [400/733], Loss: 0.0994\n",
      "Epoch [9/10], Step [500/733], Loss: 0.1706\n",
      "Epoch [9/10], Step [600/733], Loss: 0.3588\n",
      "Epoch [9/10], Step [700/733], Loss: 0.1422\n",
      "Epoch [10/10], Step [100/733], Loss: 0.2167\n",
      "Epoch [10/10], Step [200/733], Loss: 0.1330\n",
      "Epoch [10/10], Step [300/733], Loss: 0.2947\n",
      "Epoch [10/10], Step [400/733], Loss: 0.1292\n",
      "Epoch [10/10], Step [500/733], Loss: 0.2300\n",
      "Epoch [10/10], Step [600/733], Loss: 0.0855\n",
      "Epoch [10/10], Step [700/733], Loss: 0.2133\n"
     ]
    }
   ],
   "source": [
    "history = model.fit(train_loader=train_loader,optimizer=optimizer, loss_function=loss, num_epochs=10)"
   ]
  },
  {
   "cell_type": "markdown",
   "metadata": {},
   "source": [
    "## Plot the results"
   ]
  },
  {
   "cell_type": "code",
   "execution_count": 104,
   "metadata": {},
   "outputs": [
    {
     "data": {
      "image/png": "[encoded data removed]",
      "text/plain": [
       "<Figure size 720x360 with 1 Axes>"
      ]
     },
     "metadata": {
      "needs_background": "light"
     },
     "output_type": "display_data"
    }
   ],
   "source": [
    "x=(range(1,len(history)+1))\n",
    "\n",
    "plt.figure(figsize=(10, 5))\n",
    "plt.plot(x, history)\n",
    "plt.xlabel('Step')\n",
    "plt.ylabel('Loss')\n",
    "plt.show()"
   ]
  },
  {
   "cell_type": "markdown",
   "metadata": {},
   "source": [
    "## Evaluate the model"
   ]
  },
  {
   "cell_type": "code",
   "execution_count": 105,
   "metadata": {},
   "outputs": [
    {
     "name": "stdout",
     "output_type": "stream",
     "text": [
      "Accuracy of the model on the test set: 91.3299%)\n"
     ]
    }
   ],
   "source": [
    "# model.eval()\n",
    "\n",
    "# with torch.no_grad():\n",
    "#     correct = 0\n",
    "#     total = 0\n",
    "#     for images, labels in test_loader:\n",
    "#         images, labels = images.to(device), labels.to(device)\n",
    "#         outputs = model(images)\n",
    "#         _, predicted = torch.max(outputs.data, 1)\n",
    "#         total += labels.size(0)\n",
    "#         correct += (predicted==labels).sum().item()\n",
    "        \n",
    "#     print('Accuracy of the model on the test images: {:.4f}%)'.format(100*correct / total))\n",
    "\n",
    "model.evaluate(test_loader)"
   ]
  },
  {
   "cell_type": "markdown",
   "metadata": {},
   "source": [
    "## Test model's perfomance"
   ]
  },
  {
   "cell_type": "code",
   "execution_count": 106,
   "metadata": {
    "scrolled": false
   },
   "outputs": [
    {
     "name": "stdout",
     "output_type": "stream",
     "text": [
      "True Label:  1  Predicted Label:  1\n"
     ]
    },
    {
     "data": {
      "image/png": "[encoded data removed]",
      "text/plain": [
       "<Figure size 432x288 with 1 Axes>"
      ]
     },
     "metadata": {
      "needs_background": "light"
     },
     "output_type": "display_data"
    },
    {
     "name": "stdout",
     "output_type": "stream",
     "text": [
      "-------------\n",
      "True Label:  0  Predicted Label:  0\n"
     ]
    },
    {
     "data": {
      "image/png": "[encoded data removed]",
      "text/plain": [
       "<Figure size 432x288 with 1 Axes>"
      ]
     },
     "metadata": {
      "needs_background": "light"
     },
     "output_type": "display_data"
    },
    {
     "name": "stdout",
     "output_type": "stream",
     "text": [
      "-------------\n",
      "True Label:  4  Predicted Label:  4\n"
     ]
    },
    {
     "data": {
      "image/png": "[encoded data removed]",
      "text/plain": [
       "<Figure size 432x288 with 1 Axes>"
      ]
     },
     "metadata": {
      "needs_background": "light"
     },
     "output_type": "display_data"
    },
    {
     "name": "stdout",
     "output_type": "stream",
     "text": [
      "-------------\n",
      "True Label:  3  Predicted Label:  3\n"
     ]
    },
    {
     "data": {
      "image/png": "[encoded data removed]",
      "text/plain": [
       "<Figure size 432x288 with 1 Axes>"
      ]
     },
     "metadata": {
      "needs_background": "light"
     },
     "output_type": "display_data"
    },
    {
     "name": "stdout",
     "output_type": "stream",
     "text": [
      "-------------\n",
      "True Label:  0  Predicted Label:  0\n"
     ]
    },
    {
     "data": {
      "image/png": "[encoded data removed]",
      "text/plain": [
       "<Figure size 432x288 with 1 Axes>"
      ]
     },
     "metadata": {
      "needs_background": "light"
     },
     "output_type": "display_data"
    },
    {
     "name": "stdout",
     "output_type": "stream",
     "text": [
      "-------------\n"
     ]
    }
   ],
   "source": [
    "with torch.no_grad():\n",
    "    images, labels = iter(test_loader).next()\n",
    "    images = images.to(model.device)\n",
    "    out_predict = model(images)\n",
    "    _, predicted = torch.max(out_predict.data,1)\n",
    "    for idx, each_image in enumerate(images[:5]):\n",
    "        each_image = each_image.cpu().permute(1,2,0).numpy()\n",
    "        image_label = labels[idx].cpu().numpy().squeeze()\n",
    "        print(\"True Label: \", image_label, \" Predicted Label: \",predicted[idx].cpu().numpy().squeeze()  )\n",
    "        plt.imshow(each_image)\n",
    "        plt.show()\n",
    "        print(\"-------------\")\n",
    "        "
   ]
  },
  {
   "cell_type": "code",
   "execution_count": null,
   "metadata": {},
   "outputs": [],
   "source": []
  }
 ],
 "metadata": {
  "kernelspec": {
   "display_name": "Python 3",
   "language": "python",
   "name": "python3"
  },
  "language_info": {
   "codemirror_mode": {
    "name": "ipython",
    "version": 3
   },
   "file_extension": ".py",
   "mimetype": "text/x-python",
   "name": "python",
   "nbconvert_exporter": "python",
   "pygments_lexer": "ipython3",
   "version": "3.7.9"
  }
 },
 "nbformat": 4,
 "nbformat_minor": 4
}
